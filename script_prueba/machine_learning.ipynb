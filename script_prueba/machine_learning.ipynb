{
 "cells": [
  {
   "cell_type": "markdown",
   "id": "ba92b676",
   "metadata": {},
   "source": [
    "# Machine Learning Proyecto Sismos en Ecuador"
   ]
  },
  {
   "cell_type": "markdown",
   "id": "c7eb450f",
   "metadata": {},
   "source": [
    "## Librerias Machine Learning"
   ]
  },
  {
   "cell_type": "code",
   "execution_count": 1,
   "id": "cb225050",
   "metadata": {},
   "outputs": [],
   "source": [
    "import pandas as pd\n",
    "import numpy as numpy\n",
    "import time\n",
    "import matplotlib.pyplot as plt\n",
    "import seaborn as sns\n",
    "from pathlib import Path\n",
    "\n",
    "#  visualización interactiva \n",
    "import plotly.express as px\n",
    "sns.set(style=\"whitegrid\")"
   ]
  },
  {
   "cell_type": "markdown",
   "id": "f456c209",
   "metadata": {},
   "source": [
    "## Cargar datos sismicos"
   ]
  },
  {
   "cell_type": "code",
   "execution_count": 2,
   "id": "abe01c4e",
   "metadata": {},
   "outputs": [
    {
     "name": "stderr",
     "output_type": "stream",
     "text": [
      "<>:5: SyntaxWarning: invalid escape sequence '\\s'\n",
      "<>:5: SyntaxWarning: invalid escape sequence '\\s'\n",
      "C:\\Users\\Famil\\AppData\\Local\\Temp\\ipykernel_2944\\4089559544.py:5: SyntaxWarning: invalid escape sequence '\\s'\n",
      "  df = pd.read_csv(ruta_datos, comment='#', sep=',\\s*', engine='python')\n"
     ]
    },
    {
     "name": "stdout",
     "output_type": "stream",
     "text": [
      "C:\\Users\\Famil\\OneDrive\\Escritorio\\Seminario code\\Seminario-Grupo10-feature-data-loader\\data\\cat_origen_2012-jul2025.txt\n",
      "True\n"
     ]
    },
    {
     "data": {
      "text/html": [
       "<div>\n",
       "<style scoped>\n",
       "    .dataframe tbody tr th:only-of-type {\n",
       "        vertical-align: middle;\n",
       "    }\n",
       "\n",
       "    .dataframe tbody tr th {\n",
       "        vertical-align: top;\n",
       "    }\n",
       "\n",
       "    .dataframe thead th {\n",
       "        text-align: right;\n",
       "    }\n",
       "</style>\n",
       "<table border=\"1\" class=\"dataframe\">\n",
       "  <thead>\n",
       "    <tr style=\"text-align: right;\">\n",
       "      <th></th>\n",
       "      <th>event</th>\n",
       "      <th>orig_id</th>\n",
       "      <th>time_value</th>\n",
       "      <th>time_value_ms</th>\n",
       "      <th>time_uncertainty</th>\n",
       "      <th>latitude_value</th>\n",
       "      <th>latitude_uncertainty</th>\n",
       "      <th>longitude_value</th>\n",
       "      <th>longitude_uncertainty</th>\n",
       "      <th>depth_value</th>\n",
       "      <th>...</th>\n",
       "      <th>quality_associatedStationCount</th>\n",
       "      <th>quality_usedStationCount</th>\n",
       "      <th>quality_standardError</th>\n",
       "      <th>quality_azimuthalGap</th>\n",
       "      <th>quality_maximumDistance</th>\n",
       "      <th>quality_minimumDistance</th>\n",
       "      <th>quality_medianDistance</th>\n",
       "      <th>Fuente</th>\n",
       "      <th>methodID</th>\n",
       "      <th>earthModelID</th>\n",
       "    </tr>\n",
       "  </thead>\n",
       "  <tbody>\n",
       "    <tr>\n",
       "      <th>0</th>\n",
       "      <td>igepn2012acvi</td>\n",
       "      <td>2610</td>\n",
       "      <td>2012-01-02 13:02:44.000</td>\n",
       "      <td>102854</td>\n",
       "      <td>1.322</td>\n",
       "      <td>-1.519048</td>\n",
       "      <td>9.36</td>\n",
       "      <td>-80.999382</td>\n",
       "      <td>10.05</td>\n",
       "      <td>10.00</td>\n",
       "      <td>...</td>\n",
       "      <td>15.0</td>\n",
       "      <td>13</td>\n",
       "      <td>0.80</td>\n",
       "      <td>311.15</td>\n",
       "      <td>377.37</td>\n",
       "      <td>210.01</td>\n",
       "      <td>287.76</td>\n",
       "      <td>IGEPN</td>\n",
       "      <td>LOCSAT</td>\n",
       "      <td>iasp91</td>\n",
       "    </tr>\n",
       "    <tr>\n",
       "      <th>1</th>\n",
       "      <td>igepn2012acxo</td>\n",
       "      <td>2611</td>\n",
       "      <td>2012-01-02 14:10:00.000</td>\n",
       "      <td>507680</td>\n",
       "      <td>0.740</td>\n",
       "      <td>-1.291955</td>\n",
       "      <td>6.01</td>\n",
       "      <td>-80.529152</td>\n",
       "      <td>4.74</td>\n",
       "      <td>12.00</td>\n",
       "      <td>...</td>\n",
       "      <td>31.0</td>\n",
       "      <td>23</td>\n",
       "      <td>0.85</td>\n",
       "      <td>233.55</td>\n",
       "      <td>319.54</td>\n",
       "      <td>44.93</td>\n",
       "      <td>237.95</td>\n",
       "      <td>IGEPN</td>\n",
       "      <td>LOCSAT</td>\n",
       "      <td>iasp91</td>\n",
       "    </tr>\n",
       "    <tr>\n",
       "      <th>2</th>\n",
       "      <td>igepn2012ahkn</td>\n",
       "      <td>2643</td>\n",
       "      <td>2012-01-05 01:18:17.000</td>\n",
       "      <td>293170</td>\n",
       "      <td>1.268</td>\n",
       "      <td>-1.822281</td>\n",
       "      <td>11.44</td>\n",
       "      <td>-81.669304</td>\n",
       "      <td>9.91</td>\n",
       "      <td>5.00</td>\n",
       "      <td>...</td>\n",
       "      <td>14.0</td>\n",
       "      <td>14</td>\n",
       "      <td>1.35</td>\n",
       "      <td>322.97</td>\n",
       "      <td>458.75</td>\n",
       "      <td>285.82</td>\n",
       "      <td>376.04</td>\n",
       "      <td>IGEPN</td>\n",
       "      <td>LOCSAT</td>\n",
       "      <td>tab</td>\n",
       "    </tr>\n",
       "    <tr>\n",
       "      <th>3</th>\n",
       "      <td>igepn2012ahzg</td>\n",
       "      <td>2647</td>\n",
       "      <td>2012-01-05 08:43:48.000</td>\n",
       "      <td>885316</td>\n",
       "      <td>1.454</td>\n",
       "      <td>-1.651550</td>\n",
       "      <td>10.68</td>\n",
       "      <td>-81.512100</td>\n",
       "      <td>9.98</td>\n",
       "      <td>10.00</td>\n",
       "      <td>...</td>\n",
       "      <td>21.0</td>\n",
       "      <td>19</td>\n",
       "      <td>0.88</td>\n",
       "      <td>320.57</td>\n",
       "      <td>441.64</td>\n",
       "      <td>260.26</td>\n",
       "      <td>353.72</td>\n",
       "      <td>IGEPN</td>\n",
       "      <td>LOCSAT</td>\n",
       "      <td>tab</td>\n",
       "    </tr>\n",
       "    <tr>\n",
       "      <th>4</th>\n",
       "      <td>igepn2012aigm</td>\n",
       "      <td>2649</td>\n",
       "      <td>2012-01-05 12:22:12.000</td>\n",
       "      <td>310021</td>\n",
       "      <td>0.415</td>\n",
       "      <td>0.886300</td>\n",
       "      <td>3.04</td>\n",
       "      <td>-78.776039</td>\n",
       "      <td>1.81</td>\n",
       "      <td>1.17</td>\n",
       "      <td>...</td>\n",
       "      <td>28.0</td>\n",
       "      <td>24</td>\n",
       "      <td>0.78</td>\n",
       "      <td>175.91</td>\n",
       "      <td>265.47</td>\n",
       "      <td>47.15</td>\n",
       "      <td>153.12</td>\n",
       "      <td>IGEPN</td>\n",
       "      <td>LOCSAT</td>\n",
       "      <td>iasp91</td>\n",
       "    </tr>\n",
       "  </tbody>\n",
       "</table>\n",
       "<p>5 rows × 28 columns</p>\n",
       "</div>"
      ],
      "text/plain": [
       "           event  orig_id               time_value  time_value_ms  \\\n",
       "0  igepn2012acvi     2610  2012-01-02 13:02:44.000         102854   \n",
       "1  igepn2012acxo     2611  2012-01-02 14:10:00.000         507680   \n",
       "2  igepn2012ahkn     2643  2012-01-05 01:18:17.000         293170   \n",
       "3  igepn2012ahzg     2647  2012-01-05 08:43:48.000         885316   \n",
       "4  igepn2012aigm     2649  2012-01-05 12:22:12.000         310021   \n",
       "\n",
       "   time_uncertainty  latitude_value  latitude_uncertainty  longitude_value  \\\n",
       "0             1.322       -1.519048                  9.36       -80.999382   \n",
       "1             0.740       -1.291955                  6.01       -80.529152   \n",
       "2             1.268       -1.822281                 11.44       -81.669304   \n",
       "3             1.454       -1.651550                 10.68       -81.512100   \n",
       "4             0.415        0.886300                  3.04       -78.776039   \n",
       "\n",
       "   longitude_uncertainty  depth_value  ...  quality_associatedStationCount  \\\n",
       "0                  10.05        10.00  ...                            15.0   \n",
       "1                   4.74        12.00  ...                            31.0   \n",
       "2                   9.91         5.00  ...                            14.0   \n",
       "3                   9.98        10.00  ...                            21.0   \n",
       "4                   1.81         1.17  ...                            28.0   \n",
       "\n",
       "   quality_usedStationCount  quality_standardError quality_azimuthalGap  \\\n",
       "0                        13                   0.80               311.15   \n",
       "1                        23                   0.85               233.55   \n",
       "2                        14                   1.35               322.97   \n",
       "3                        19                   0.88               320.57   \n",
       "4                        24                   0.78               175.91   \n",
       "\n",
       "   quality_maximumDistance  quality_minimumDistance  quality_medianDistance  \\\n",
       "0                   377.37                   210.01                  287.76   \n",
       "1                   319.54                    44.93                  237.95   \n",
       "2                   458.75                   285.82                  376.04   \n",
       "3                   441.64                   260.26                  353.72   \n",
       "4                   265.47                    47.15                  153.12   \n",
       "\n",
       "   Fuente  methodID   earthModelID  \n",
       "0   IGEPN     LOCSAT        iasp91  \n",
       "1   IGEPN     LOCSAT        iasp91  \n",
       "2   IGEPN     LOCSAT           tab  \n",
       "3   IGEPN     LOCSAT           tab  \n",
       "4   IGEPN     LOCSAT        iasp91  \n",
       "\n",
       "[5 rows x 28 columns]"
      ]
     },
     "execution_count": 2,
     "metadata": {},
     "output_type": "execute_result"
    }
   ],
   "source": [
    "from pathlib import Path\n",
    "ruta_datos = Path(\"../data/cat_origen_2012-jul2025.txt\")\n",
    "\n",
    "# Cargar el CSV ignorando las líneas de comentario\n",
    "df = pd.read_csv(ruta_datos, comment='#', sep=',\\s*', engine='python')\n",
    "\n",
    "print(ruta_datos.resolve())   # Muestra la ruta absoluta que está buscando\n",
    "print(ruta_datos.exists())\n",
    "# Verificar los primeros registros\n",
    "df.head()\n"
   ]
  },
  {
   "cell_type": "markdown",
   "id": "5a870697",
   "metadata": {},
   "source": [
    "### Exploracion de filas y columnas"
   ]
  },
  {
   "cell_type": "code",
   "execution_count": 3,
   "id": "0da3dccb",
   "metadata": {},
   "outputs": [
    {
     "name": "stdout",
     "output_type": "stream",
     "text": [
      "Filas y columnas: (3288, 28)\n",
      "event                              object\n",
      "orig_id                             int64\n",
      "time_value                         object\n",
      "time_value_ms                       int64\n",
      "time_uncertainty                  float64\n",
      "latitude_value                    float64\n",
      "latitude_uncertainty              float64\n",
      "longitude_value                   float64\n",
      "longitude_uncertainty             float64\n",
      "depth_value                       float64\n",
      "depth_uncertainty                 float64\n",
      "magnitude_value_M                 float64\n",
      "magnitude_value_P                 float64\n",
      "magnitude_type_P                   object\n",
      "magnitudeP_uncertainty            float64\n",
      "magnitudeP_stationCount             int64\n",
      "quality_associatedPhaseCount        int64\n",
      "quality_usedPhaseCount              int64\n",
      "quality_associatedStationCount    float64\n",
      "quality_usedStationCount            int64\n",
      "quality_standardError             float64\n",
      "quality_azimuthalGap              float64\n",
      "quality_maximumDistance           float64\n",
      "quality_minimumDistance           float64\n",
      "quality_medianDistance            float64\n",
      "Fuente                             object\n",
      "methodID                           object\n",
      "earthModelID                       object\n",
      "dtype: object\n",
      "             orig_id  time_value_ms  time_uncertainty  latitude_value  \\\n",
      "count    3288.000000    3288.000000       2977.000000     3288.000000   \n",
      "mean   168434.826034  499413.142640          0.771938       -1.350673   \n",
      "std    176987.363426  292358.805332          0.725106        1.528409   \n",
      "min      2610.000000     318.000000          0.104000       -5.941065   \n",
      "25%     70636.250000  247854.000000          0.339000       -2.512871   \n",
      "50%    104368.000000  502523.000000          0.570000       -1.387663   \n",
      "75%    202916.250000  758103.250000          0.968000       -0.118394   \n",
      "max    729273.000000  999912.000000          9.197000        1.958341   \n",
      "\n",
      "       latitude_uncertainty  longitude_value  longitude_uncertainty  \\\n",
      "count           3288.000000      3288.000000            3288.000000   \n",
      "mean               3.845596       -79.893728               5.360937   \n",
      "std                4.867031         1.619381               5.988745   \n",
      "min                0.030000       -92.323769               0.060000   \n",
      "25%                1.770000       -80.774515               2.280000   \n",
      "50%                2.750000       -80.097313               3.850000   \n",
      "75%                4.502500       -79.048806               6.340000   \n",
      "max              121.330000       -75.377686             106.400000   \n",
      "\n",
      "       depth_value  depth_uncertainty  magnitude_value_M  ...  \\\n",
      "count  3288.000000        3288.000000        3288.000000  ...   \n",
      "mean     27.931597           3.896767           4.042305  ...   \n",
      "std      43.587425           9.928859           0.510798  ...   \n",
      "min      -7.780000           0.000000           3.100000  ...   \n",
      "25%       5.990000           0.000000           3.700000  ...   \n",
      "50%      10.000000           2.160000           3.900000  ...   \n",
      "75%      27.120000           4.130000           4.300000  ...   \n",
      "max     750.000000         263.300000           7.600000  ...   \n",
      "\n",
      "       magnitudeP_stationCount  quality_associatedPhaseCount  \\\n",
      "count              3288.000000                   3288.000000   \n",
      "mean                 20.302920                     58.295620   \n",
      "std                  11.563482                     32.464507   \n",
      "min                   1.000000                      4.000000   \n",
      "25%                  12.000000                     34.000000   \n",
      "50%                  19.000000                     54.000000   \n",
      "75%                  29.000000                     79.000000   \n",
      "max                  77.000000                    194.000000   \n",
      "\n",
      "       quality_usedPhaseCount  quality_associatedStationCount  \\\n",
      "count             3288.000000                     2977.000000   \n",
      "mean                49.034672                       48.343635   \n",
      "std                 29.106040                       26.352599   \n",
      "min                  4.000000                        2.000000   \n",
      "25%                 27.000000                       28.000000   \n",
      "50%                 44.000000                       46.000000   \n",
      "75%                 67.000000                       66.000000   \n",
      "max                187.000000                      166.000000   \n",
      "\n",
      "       quality_usedStationCount  quality_standardError  quality_azimuthalGap  \\\n",
      "count               3288.000000            3288.000000           3288.000000   \n",
      "mean                  42.475365               0.806670            193.691794   \n",
      "std                   24.423726               0.322417             77.975192   \n",
      "min                    2.000000               0.000000             20.360000   \n",
      "25%                   23.000000               0.630000            132.597500   \n",
      "50%                   39.000000               0.790000            206.235000   \n",
      "75%                   60.000000               0.930000            253.247500   \n",
      "max                  162.000000               6.210000            358.280000   \n",
      "\n",
      "       quality_maximumDistance  quality_minimumDistance  \\\n",
      "count              3288.000000              3288.000000   \n",
      "mean                378.970207                72.483656   \n",
      "std                 206.471372                82.217659   \n",
      "min                   2.460000                 0.940000   \n",
      "25%                 287.117500                28.255000   \n",
      "50%                 355.800000                50.845000   \n",
      "75%                 434.707500                86.442500   \n",
      "max                4817.410000              1572.210000   \n",
      "\n",
      "       quality_medianDistance  \n",
      "count             3286.000000  \n",
      "mean               250.052313  \n",
      "std                468.634801  \n",
      "min                  2.040000  \n",
      "25%                177.835000  \n",
      "50%                231.090000  \n",
      "75%                282.280000  \n",
      "max              22644.000000  \n",
      "\n",
      "[8 rows x 22 columns]\n",
      "<class 'pandas.core.frame.DataFrame'>\n",
      "RangeIndex: 3288 entries, 0 to 3287\n",
      "Data columns (total 28 columns):\n",
      " #   Column                          Non-Null Count  Dtype  \n",
      "---  ------                          --------------  -----  \n",
      " 0   event                           3288 non-null   object \n",
      " 1   orig_id                         3288 non-null   int64  \n",
      " 2   time_value                      3288 non-null   object \n",
      " 3   time_value_ms                   3288 non-null   int64  \n",
      " 4   time_uncertainty                2977 non-null   float64\n",
      " 5   latitude_value                  3288 non-null   float64\n",
      " 6   latitude_uncertainty            3288 non-null   float64\n",
      " 7   longitude_value                 3288 non-null   float64\n",
      " 8   longitude_uncertainty           3288 non-null   float64\n",
      " 9   depth_value                     3288 non-null   float64\n",
      " 10  depth_uncertainty               3288 non-null   float64\n",
      " 11  magnitude_value_M               3288 non-null   float64\n",
      " 12  magnitude_value_P               3288 non-null   float64\n",
      " 13  magnitude_type_P                3288 non-null   object \n",
      " 14  magnitudeP_uncertainty          1331 non-null   float64\n",
      " 15  magnitudeP_stationCount         3288 non-null   int64  \n",
      " 16  quality_associatedPhaseCount    3288 non-null   int64  \n",
      " 17  quality_usedPhaseCount          3288 non-null   int64  \n",
      " 18  quality_associatedStationCount  2977 non-null   float64\n",
      " 19  quality_usedStationCount        3288 non-null   int64  \n",
      " 20  quality_standardError           3288 non-null   float64\n",
      " 21  quality_azimuthalGap            3288 non-null   float64\n",
      " 22  quality_maximumDistance         3288 non-null   float64\n",
      " 23  quality_minimumDistance         3288 non-null   float64\n",
      " 24  quality_medianDistance          3286 non-null   float64\n",
      " 25  Fuente                          3288 non-null   object \n",
      " 26  methodID                        3288 non-null   object \n",
      " 27  earthModelID                    3288 non-null   object \n",
      "dtypes: float64(16), int64(6), object(6)\n",
      "memory usage: 719.4+ KB\n"
     ]
    }
   ],
   "source": [
    "# Dimensiones del dataset\n",
    "print(\"Filas y columnas:\", df.shape)\n",
    "\n",
    "# Tipos de datos\n",
    "print(df.dtypes)\n",
    "\n",
    "# Estadísticas básicas\n",
    "print(df.describe())\n",
    "\n",
    "# Información general\n",
    "df.info()\n"
   ]
  },
  {
   "cell_type": "markdown",
   "id": "f2011b7d",
   "metadata": {},
   "source": [
    "### Limpieza"
   ]
  },
  {
   "cell_type": "code",
   "execution_count": 4,
   "id": "22a02bf1",
   "metadata": {},
   "outputs": [
    {
     "data": {
      "text/plain": [
       "event                                0\n",
       "orig_id                              0\n",
       "time_value                           0\n",
       "time_value_ms                        0\n",
       "time_uncertainty                   311\n",
       "latitude_value                       0\n",
       "latitude_uncertainty                 0\n",
       "longitude_value                      0\n",
       "longitude_uncertainty                0\n",
       "depth_value                          0\n",
       "depth_uncertainty                    0\n",
       "magnitude_value_M                    0\n",
       "magnitude_value_P                    0\n",
       "magnitude_type_P                     0\n",
       "magnitudeP_uncertainty            1957\n",
       "magnitudeP_stationCount              0\n",
       "quality_associatedPhaseCount         0\n",
       "quality_usedPhaseCount               0\n",
       "quality_associatedStationCount     311\n",
       "quality_usedStationCount             0\n",
       "quality_standardError                0\n",
       "quality_azimuthalGap                 0\n",
       "quality_maximumDistance              0\n",
       "quality_minimumDistance              0\n",
       "quality_medianDistance               2\n",
       "Fuente                               0\n",
       "methodID                             0\n",
       "earthModelID                         0\n",
       "dtype: int64"
      ]
     },
     "execution_count": 4,
     "metadata": {},
     "output_type": "execute_result"
    }
   ],
   "source": [
    "# Convertir time_value a datetime\n",
    "df['time_value'] = pd.to_datetime(df['time_value'], errors='coerce')\n",
    "\n",
    "# Revisar valores nulos\n",
    "df.isnull().sum()\n"
   ]
  },
  {
   "cell_type": "markdown",
   "id": "0e0c586b",
   "metadata": {},
   "source": [
    "### Analisis exploratorio visual magnitudes de sismos"
   ]
  },
  {
   "cell_type": "code",
   "execution_count": 5,
   "id": "8f6edc34",
   "metadata": {},
   "outputs": [
    {
     "data": {
      "image/png": "[encoded data removed]",
      "text/plain": [
       "<Figure size 1000x600 with 1 Axes>"
      ]
     },
     "metadata": {},
     "output_type": "display_data"
    }
   ],
   "source": [
    "import matplotlib. pyplot as plt\n",
    "\n",
    "\n",
    "plt.figure(figsize=(10,6))\n",
    "sns.histplot(df['magnitude_value_P'], bins=30, kde=True)\n",
    "plt.title(\"Distribución de la Magnitud Preferida de los Sismos\")\n",
    "plt.xlabel(\"Magnitud\")\n",
    "plt.ylabel(\"Frecuencia\")\n",
    "plt.show()\n",
    "\n",
    "\n"
   ]
  },
  {
   "cell_type": "markdown",
   "id": "07300bd5",
   "metadata": {},
   "source": [
    "### Profundidad y magnitud"
   ]
  },
  {
   "cell_type": "code",
   "execution_count": 6,
   "id": "0a546ac5",
   "metadata": {},
   "outputs": [
    {
     "data": {
      "image/png": "[encoded data removed]",
      "text/plain": [
       "<Figure size 1000x600 with 1 Axes>"
      ]
     },
     "metadata": {},
     "output_type": "display_data"
    }
   ],
   "source": [
    "plt.figure(figsize=(10,6))\n",
    "sns.scatterplot(x='depth_value', y='magnitude_value_P', data=df)\n",
    "plt.title(\"Profundidad vs Magnitud\")\n",
    "plt.xlabel(\"Profundidad (km)\")\n",
    "plt.ylabel(\"Magnitud Preferida\")\n",
    "plt.show()\n"
   ]
  },
  {
   "cell_type": "markdown",
   "id": "a7206a2e",
   "metadata": {},
   "source": [
    "### Mapa de eventos sismicos"
   ]
  },
  {
   "cell_type": "code",
   "execution_count": 7,
   "id": "76fbddd1",
   "metadata": {},
   "outputs": [
    {
     "data": {
      "application/vnd.plotly.v1+json": {
       "config": {
        "plotlyServerURL": "https://plot.ly"
       },
       "data": [
        {
         "geo": "geo",
         "hovertemplate": "magnitude_value_P=%{marker.color}<br>latitude_value=%{lat}<br>longitude_value=%{lon}<extra></extra>",
         "lat": {
          "bdata": "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",
          "dtype": "f8"
         },
         "legendgroup": "",
         "lon": {
          "bdata": "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",
          "dtype": "f8"
         },
         "marker": {
          "color": {
           "bdata": "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",
           "dtype": "f8"
          },
          "coloraxis": "coloraxis",
          "size": {
           "bdata": "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",
           "dtype": "f8"
          },
          "sizemode": "area",
          "sizeref": 0.019,
          "symbol": "circle"
         },
         "mode": "markers",
         "name": "",
         "showlegend": false,
         "type": "scattergeo"
        }
       ],
       "layout": {
        "coloraxis": {
         "colorbar": {
          "title": {
           "text": "magnitude_value_P"
          }
         },
         "colorscale": [
          [
           0,
           "#0d0887"
          ],
          [
           0.1111111111111111,
           "#46039f"
          ],
          [
           0.2222222222222222,
           "#7201a8"
          ],
          [
           0.3333333333333333,
           "#9c179e"
          ],
          [
           0.4444444444444444,
           "#bd3786"
          ],
          [
           0.5555555555555556,
           "#d8576b"
          ],
          [
           0.6666666666666666,
           "#ed7953"
          ],
          [
           0.7777777777777778,
           "#fb9f3a"
          ],
          [
           0.8888888888888888,
           "#fdca26"
          ],
          [
           1,
           "#f0f921"
          ]
         ]
        },
        "geo": {
         "center": {},
         "domain": {
          "x": [
           0,
           1
          ],
          "y": [
           0,
           1
          ]
         },
         "projection": {
          "type": "natural earth"
         }
        },
        "legend": {
         "itemsizing": "constant",
         "tracegroupgap": 0
        },
        "template": {
         "data": {
          "bar": [
           {
            "error_x": {
             "color": "#2a3f5f"
            },
            "error_y": {
             "color": "#2a3f5f"
            },
            "marker": {
             "line": {
              "color": "#E5ECF6",
              "width": 0.5
             },
             "pattern": {
              "fillmode": "overlay",
              "size": 10,
              "solidity": 0.2
             }
            },
            "type": "bar"
           }
          ],
          "barpolar": [
           {
            "marker": {
             "line": {
              "color": "#E5ECF6",
              "width": 0.5
             },
             "pattern": {
              "fillmode": "overlay",
              "size": 10,
              "solidity": 0.2
             }
            },
            "type": "barpolar"
           }
          ],
          "carpet": [
           {
            "aaxis": {
             "endlinecolor": "#2a3f5f",
             "gridcolor": "white",
             "linecolor": "white",
             "minorgridcolor": "white",
             "startlinecolor": "#2a3f5f"
            },
            "baxis": {
             "endlinecolor": "#2a3f5f",
             "gridcolor": "white",
             "linecolor": "white",
             "minorgridcolor": "white",
             "startlinecolor": "#2a3f5f"
            },
            "type": "carpet"
           }
          ],
          "choropleth": [
           {
            "colorbar": {
             "outlinewidth": 0,
             "ticks": ""
            },
            "type": "choropleth"
           }
          ],
          "contour": [
           {
            "colorbar": {
             "outlinewidth": 0,
             "ticks": ""
            },
            "colorscale": [
             [
              0,
              "#0d0887"
             ],
             [
              0.1111111111111111,
              "#46039f"
             ],
             [
              0.2222222222222222,
              "#7201a8"
             ],
             [
              0.3333333333333333,
              "#9c179e"
             ],
             [
              0.4444444444444444,
              "#bd3786"
             ],
             [
              0.5555555555555556,
              "#d8576b"
             ],
             [
              0.6666666666666666,
              "#ed7953"
             ],
             [
              0.7777777777777778,
              "#fb9f3a"
             ],
             [
              0.8888888888888888,
              "#fdca26"
             ],
             [
              1,
              "#f0f921"
             ]
            ],
            "type": "contour"
           }
          ],
          "contourcarpet": [
           {
            "colorbar": {
             "outlinewidth": 0,
             "ticks": ""
            },
            "type": "contourcarpet"
           }
          ],
          "heatmap": [
           {
            "colorbar": {
             "outlinewidth": 0,
             "ticks": ""
            },
            "colorscale": [
             [
              0,
              "#0d0887"
             ],
             [
              0.1111111111111111,
              "#46039f"
             ],
             [
              0.2222222222222222,
              "#7201a8"
             ],
             [
              0.3333333333333333,
              "#9c179e"
             ],
             [
              0.4444444444444444,
              "#bd3786"
             ],
             [
              0.5555555555555556,
              "#d8576b"
             ],
             [
              0.6666666666666666,
              "#ed7953"
             ],
             [
              0.7777777777777778,
              "#fb9f3a"
             ],
             [
              0.8888888888888888,
              "#fdca26"
             ],
             [
              1,
              "#f0f921"
             ]
            ],
            "type": "heatmap"
           }
          ],
          "histogram": [
           {
            "marker": {
             "pattern": {
              "fillmode": "overlay",
              "size": 10,
              "solidity": 0.2
             }
            },
            "type": "histogram"
           }
          ],
          "histogram2d": [
           {
            "colorbar": {
             "outlinewidth": 0,
             "ticks": ""
            },
            "colorscale": [
             [
              0,
              "#0d0887"
             ],
             [
              0.1111111111111111,
              "#46039f"
             ],
             [
              0.2222222222222222,
              "#7201a8"
             ],
             [
              0.3333333333333333,
              "#9c179e"
             ],
             [
              0.4444444444444444,
              "#bd3786"
             ],
             [
              0.5555555555555556,
              "#d8576b"
             ],
             [
              0.6666666666666666,
              "#ed7953"
             ],
             [
              0.7777777777777778,
              "#fb9f3a"
             ],
             [
              0.8888888888888888,
              "#fdca26"
             ],
             [
              1,
              "#f0f921"
             ]
            ],
            "type": "histogram2d"
           }
          ],
          "histogram2dcontour": [
           {
            "colorbar": {
             "outlinewidth": 0,
             "ticks": ""
            },
            "colorscale": [
             [
              0,
              "#0d0887"
             ],
             [
              0.1111111111111111,
              "#46039f"
             ],
             [
              0.2222222222222222,
              "#7201a8"
             ],
             [
              0.3333333333333333,
              "#9c179e"
             ],
             [
              0.4444444444444444,
              "#bd3786"
             ],
             [
              0.5555555555555556,
              "#d8576b"
             ],
             [
              0.6666666666666666,
              "#ed7953"
             ],
             [
              0.7777777777777778,
              "#fb9f3a"
             ],
             [
              0.8888888888888888,
              "#fdca26"
             ],
             [
              1,
              "#f0f921"
             ]
            ],
            "type": "histogram2dcontour"
           }
          ],
          "mesh3d": [
           {
            "colorbar": {
             "outlinewidth": 0,
             "ticks": ""
            },
            "type": "mesh3d"
           }
          ],
          "parcoords": [
           {
            "line": {
             "colorbar": {
              "outlinewidth": 0,
              "ticks": ""
             }
            },
            "type": "parcoords"
           }
          ],
          "pie": [
           {
            "automargin": true,
            "type": "pie"
           }
          ],
          "scatter": [
           {
            "fillpattern": {
             "fillmode": "overlay",
             "size": 10,
             "solidity": 0.2
            },
            "type": "scatter"
           }
          ],
          "scatter3d": [
           {
            "line": {
             "colorbar": {
              "outlinewidth": 0,
              "ticks": ""
             }
            },
            "marker": {
             "colorbar": {
              "outlinewidth": 0,
              "ticks": ""
             }
            },
            "type": "scatter3d"
           }
          ],
          "scattercarpet": [
           {
            "marker": {
             "colorbar": {
              "outlinewidth": 0,
              "ticks": ""
             }
            },
            "type": "scattercarpet"
           }
          ],
          "scattergeo": [
           {
            "marker": {
             "colorbar": {
              "outlinewidth": 0,
              "ticks": ""
             }
            },
            "type": "scattergeo"
           }
          ],
          "scattergl": [
           {
            "marker": {
             "colorbar": {
              "outlinewidth": 0,
              "ticks": ""
             }
            },
            "type": "scattergl"
           }
          ],
          "scattermap": [
           {
            "marker": {
             "colorbar": {
              "outlinewidth": 0,
              "ticks": ""
             }
            },
            "type": "scattermap"
           }
          ],
          "scattermapbox": [
           {
            "marker": {
             "colorbar": {
              "outlinewidth": 0,
              "ticks": ""
             }
            },
            "type": "scattermapbox"
           }
          ],
          "scatterpolar": [
           {
            "marker": {
             "colorbar": {
              "outlinewidth": 0,
              "ticks": ""
             }
            },
            "type": "scatterpolar"
           }
          ],
          "scatterpolargl": [
           {
            "marker": {
             "colorbar": {
              "outlinewidth": 0,
              "ticks": ""
             }
            },
            "type": "scatterpolargl"
           }
          ],
          "scatterternary": [
           {
            "marker": {
             "colorbar": {
              "outlinewidth": 0,
              "ticks": ""
             }
            },
            "type": "scatterternary"
           }
          ],
          "surface": [
           {
            "colorbar": {
             "outlinewidth": 0,
             "ticks": ""
            },
            "colorscale": [
             [
              0,
              "#0d0887"
             ],
             [
              0.1111111111111111,
              "#46039f"
             ],
             [
              0.2222222222222222,
              "#7201a8"
             ],
             [
              0.3333333333333333,
              "#9c179e"
             ],
             [
              0.4444444444444444,
              "#bd3786"
             ],
             [
              0.5555555555555556,
              "#d8576b"
             ],
             [
              0.6666666666666666,
              "#ed7953"
             ],
             [
              0.7777777777777778,
              "#fb9f3a"
             ],
             [
              0.8888888888888888,
              "#fdca26"
             ],
             [
              1,
              "#f0f921"
             ]
            ],
            "type": "surface"
           }
          ],
          "table": [
           {
            "cells": {
             "fill": {
              "color": "#EBF0F8"
             },
             "line": {
              "color": "white"
             }
            },
            "header": {
             "fill": {
              "color": "#C8D4E3"
             },
             "line": {
              "color": "white"
             }
            },
            "type": "table"
           }
          ]
         },
         "layout": {
          "annotationdefaults": {
           "arrowcolor": "#2a3f5f",
           "arrowhead": 0,
           "arrowwidth": 1
          },
          "autotypenumbers": "strict",
          "coloraxis": {
           "colorbar": {
            "outlinewidth": 0,
            "ticks": ""
           }
          },
          "colorscale": {
           "diverging": [
            [
             0,
             "#8e0152"
            ],
            [
             0.1,
             "#c51b7d"
            ],
            [
             0.2,
             "#de77ae"
            ],
            [
             0.3,
             "#f1b6da"
            ],
            [
             0.4,
             "#fde0ef"
            ],
            [
             0.5,
             "#f7f7f7"
            ],
            [
             0.6,
             "#e6f5d0"
            ],
            [
             0.7,
             "#b8e186"
            ],
            [
             0.8,
             "#7fbc41"
            ],
            [
             0.9,
             "#4d9221"
            ],
            [
             1,
             "#276419"
            ]
           ],
           "sequential": [
            [
             0,
             "#0d0887"
            ],
            [
             0.1111111111111111,
             "#46039f"
            ],
            [
             0.2222222222222222,
             "#7201a8"
            ],
            [
             0.3333333333333333,
             "#9c179e"
            ],
            [
             0.4444444444444444,
             "#bd3786"
            ],
            [
             0.5555555555555556,
             "#d8576b"
            ],
            [
             0.6666666666666666,
             "#ed7953"
            ],
            [
             0.7777777777777778,
             "#fb9f3a"
            ],
            [
             0.8888888888888888,
             "#fdca26"
            ],
            [
             1,
             "#f0f921"
            ]
           ],
           "sequentialminus": [
            [
             0,
             "#0d0887"
            ],
            [
             0.1111111111111111,
             "#46039f"
            ],
            [
             0.2222222222222222,
             "#7201a8"
            ],
            [
             0.3333333333333333,
             "#9c179e"
            ],
            [
             0.4444444444444444,
             "#bd3786"
            ],
            [
             0.5555555555555556,
             "#d8576b"
            ],
            [
             0.6666666666666666,
             "#ed7953"
            ],
            [
             0.7777777777777778,
             "#fb9f3a"
            ],
            [
             0.8888888888888888,
             "#fdca26"
            ],
            [
             1,
             "#f0f921"
            ]
           ]
          },
          "colorway": [
           "#636efa",
           "#EF553B",
           "#00cc96",
           "#ab63fa",
           "#FFA15A",
           "#19d3f3",
           "#FF6692",
           "#B6E880",
           "#FF97FF",
           "#FECB52"
          ],
          "font": {
           "color": "#2a3f5f"
          },
          "geo": {
           "bgcolor": "white",
           "lakecolor": "white",
           "landcolor": "#E5ECF6",
           "showlakes": true,
           "showland": true,
           "subunitcolor": "white"
          },
          "hoverlabel": {
           "align": "left"
          },
          "hovermode": "closest",
          "mapbox": {
           "style": "light"
          },
          "paper_bgcolor": "white",
          "plot_bgcolor": "#E5ECF6",
          "polar": {
           "angularaxis": {
            "gridcolor": "white",
            "linecolor": "white",
            "ticks": ""
           },
           "bgcolor": "#E5ECF6",
           "radialaxis": {
            "gridcolor": "white",
            "linecolor": "white",
            "ticks": ""
           }
          },
          "scene": {
           "xaxis": {
            "backgroundcolor": "#E5ECF6",
            "gridcolor": "white",
            "gridwidth": 2,
            "linecolor": "white",
            "showbackground": true,
            "ticks": "",
            "zerolinecolor": "white"
           },
           "yaxis": {
            "backgroundcolor": "#E5ECF6",
            "gridcolor": "white",
            "gridwidth": 2,
            "linecolor": "white",
            "showbackground": true,
            "ticks": "",
            "zerolinecolor": "white"
           },
           "zaxis": {
            "backgroundcolor": "#E5ECF6",
            "gridcolor": "white",
            "gridwidth": 2,
            "linecolor": "white",
            "showbackground": true,
            "ticks": "",
            "zerolinecolor": "white"
           }
          },
          "shapedefaults": {
           "line": {
            "color": "#2a3f5f"
           }
          },
          "ternary": {
           "aaxis": {
            "gridcolor": "white",
            "linecolor": "white",
            "ticks": ""
           },
           "baxis": {
            "gridcolor": "white",
            "linecolor": "white",
            "ticks": ""
           },
           "bgcolor": "#E5ECF6",
           "caxis": {
            "gridcolor": "white",
            "linecolor": "white",
            "ticks": ""
           }
          },
          "title": {
           "x": 0.05
          },
          "xaxis": {
           "automargin": true,
           "gridcolor": "white",
           "linecolor": "white",
           "ticks": "",
           "title": {
            "standoff": 15
           },
           "zerolinecolor": "white",
           "zerolinewidth": 2
          },
          "yaxis": {
           "automargin": true,
           "gridcolor": "white",
           "linecolor": "white",
           "ticks": "",
           "title": {
            "standoff": 15
           },
           "zerolinecolor": "white",
           "zerolinewidth": 2
          }
         }
        },
        "title": {
         "text": "Eventos Sísmicos en Ecuador (2012-2025)"
        }
       }
      }
     },
     "metadata": {},
     "output_type": "display_data"
    }
   ],
   "source": [
    "fig = px.scatter_geo(df, lat='latitude_value', lon='longitude_value',\n",
    "                     color='magnitude_value_P',\n",
    "                     size='magnitude_value_P',\n",
    "                     projection=\"natural earth\",\n",
    "                     title=\"Eventos Sísmicos en Ecuador (2012-2025)\")\n",
    "fig.show()\n"
   ]
  },
  {
   "cell_type": "markdown",
   "id": "3fd332d1",
   "metadata": {},
   "source": [
    "### Machine learning"
   ]
  },
  {
   "cell_type": "code",
   "execution_count": 8,
   "id": "8996d1ff",
   "metadata": {},
   "outputs": [],
   "source": [
    "# Caracteristicas del cat_origen_2012-jul2025.txt\n",
    "features = ['latitude_value', 'longitude_value', 'depth_value']\n",
    "target = 'magnitude_value_P'\n",
    "\n",
    "X = df[features]\n",
    "y = df[target]\n",
    "\n",
    "# Dividir en train/test\n",
    "from sklearn.model_selection import train_test_split\n",
    "X_train, X_test, y_train, y_test = train_test_split(X, y, test_size=0.2, random_state=42)\n"
   ]
  }
 ],
 "metadata": {
  "kernelspec": {
   "display_name": "Python 3",
   "language": "python",
   "name": "python3"
  },
  "language_info": {
   "codemirror_mode": {
    "name": "ipython",
    "version": 3
   },
   "file_extension": ".py",
   "mimetype": "text/x-python",
   "name": "python",
   "nbconvert_exporter": "python",
   "pygments_lexer": "ipython3",
   "version": "3.13.1"
  }
 },
 "nbformat": 4,
 "nbformat_minor": 5
}

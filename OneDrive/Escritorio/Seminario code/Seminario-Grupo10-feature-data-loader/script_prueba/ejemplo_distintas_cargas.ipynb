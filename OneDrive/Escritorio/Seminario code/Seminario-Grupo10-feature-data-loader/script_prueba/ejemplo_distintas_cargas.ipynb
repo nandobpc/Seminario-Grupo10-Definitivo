{
 "cells": [
  {
   "cell_type": "markdown",
   "id": "0e2d889d",
   "metadata": {},
   "source": [
    "Ejemplo Carga de archivos"
   ]
  },
  {
   "cell_type": "markdown",
   "id": "b9b61cfe",
   "metadata": {},
   "source": [
    "Archivo excel con varios sheets"
   ]
  },
  {
   "cell_type": "code",
   "execution_count": 1,
   "id": "351aad68",
   "metadata": {},
   "outputs": [],
   "source": [
    "import pandas as pd"
   ]
  }
 ],
 "metadata": {
  "kernelspec": {
   "display_name": "Python 3",
   "language": "python",
   "name": "python3"
  },
  "language_info": {
   "codemirror_mode": {
    "name": "ipython",
    "version": 3
   },
   "file_extension": ".py",
   "mimetype": "text/x-python",
   "name": "python",
   "nbconvert_exporter": "python",
   "pygments_lexer": "ipython3",
   "version": "3.13.1"
  }
 },
 "nbformat": 4,
 "nbformat_minor": 5
}
